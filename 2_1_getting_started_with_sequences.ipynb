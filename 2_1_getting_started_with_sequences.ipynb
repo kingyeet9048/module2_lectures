{
  "nbformat": 4,
  "nbformat_minor": 0,
  "metadata": {
    "anaconda-cloud": {},
    "kernelspec": {
      "display_name": "Python 3",
      "language": "python",
      "name": "python3"
    },
    "language_info": {
      "codemirror_mode": {
        "name": "ipython",
        "version": 3
      },
      "file_extension": ".py",
      "mimetype": "text/x-python",
      "name": "python",
      "nbconvert_exporter": "python",
      "pygments_lexer": "ipython3",
      "version": "3.7.2"
    },
    "nbpresent": {
      "slides": {
        "537f6eb2-2283-47b1-9bc9-6c9ceccf79cb": {
          "id": "537f6eb2-2283-47b1-9bc9-6c9ceccf79cb",
          "prev": null,
          "regions": {
            "8bdbe3ed-17f2-4d1a-b1ac-5dd3c02f9a2f": {
              "attrs": {
                "height": 1,
                "width": 1,
                "x": 0,
                "y": 0
              },
              "content": {
                "cell": "85d3ea25-5fc1-40ca-afc2-09a50c7acd30",
                "part": "source"
              },
              "id": "8bdbe3ed-17f2-4d1a-b1ac-5dd3c02f9a2f"
            }
          }
        }
      },
      "themes": {}
    },
    "colab": {
      "name": "2_1_getting_started_with_sequences.ipynb",
      "provenance": [],
      "include_colab_link": true
    }
  },
  "cells": [
    {
      "cell_type": "markdown",
      "metadata": {
        "id": "view-in-github",
        "colab_type": "text"
      },
      "source": [
        "<a href=\"https://colab.research.google.com/github/kingyeet9048/module2_lectures/blob/master/2_1_getting_started_with_sequences.ipynb\" target=\"_parent\"><img src=\"https://colab.research.google.com/assets/colab-badge.svg\" alt=\"Open In Colab\"/></a>"
      ]
    },
    {
      "cell_type": "markdown",
      "metadata": {
        "nbpresent": {
          "id": "85d3ea25-5fc1-40ca-afc2-09a50c7acd30"
        },
        "id": "lnojljIpt8UK",
        "colab_type": "text"
      },
      "source": [
        "# Getting Started with Sequential Data in Python \n",
        "\n",
        "## Objectives\n",
        "\n",
        "1. Understand operations on sequences\n",
        "2. Access data from a sequences using an index\n",
        "3. Access a portion of a sequence using slicing"
      ]
    },
    {
      "cell_type": "markdown",
      "metadata": {
        "nbpresent": {
          "id": "5d68486b-170c-4af6-9e81-502a4aa8e103"
        },
        "id": "jNcLN9zKt8UM",
        "colab_type": "text"
      },
      "source": [
        "## Three data types\n",
        "\n",
        "* List\n",
        "* String\n",
        "* Tuple"
      ]
    },
    {
      "cell_type": "code",
      "metadata": {
        "nbpresent": {
          "id": "9fa0ccff-0e47-4836-93a7-be2823b34d88"
        },
        "id": "BiKbW3D0t8UN",
        "colab_type": "code",
        "colab": {
          "base_uri": "https://localhost:8080/",
          "height": 34
        },
        "outputId": "20e21209-76bb-42fb-b327-2ada82a4550f"
      },
      "source": [
        "L = [1,2,3]\n",
        "type(L)"
      ],
      "execution_count": 3,
      "outputs": [
        {
          "output_type": "execute_result",
          "data": {
            "text/plain": [
              "list"
            ]
          },
          "metadata": {
            "tags": []
          },
          "execution_count": 3
        }
      ]
    },
    {
      "cell_type": "code",
      "metadata": {
        "nbpresent": {
          "id": "8c47a074-41c2-45d7-8153-ed191ba2ea69"
        },
        "id": "5LQHP4ent8US",
        "colab_type": "code",
        "colab": {
          "base_uri": "https://localhost:8080/",
          "height": 34
        },
        "outputId": "f72d05fa-7f97-4028-a5fc-121f4590f14d"
      },
      "source": [
        "s = \"Bob\"\n",
        "type(s)"
      ],
      "execution_count": 4,
      "outputs": [
        {
          "output_type": "execute_result",
          "data": {
            "text/plain": [
              "str"
            ]
          },
          "metadata": {
            "tags": []
          },
          "execution_count": 4
        }
      ]
    },
    {
      "cell_type": "code",
      "metadata": {
        "nbpresent": {
          "id": "829326d3-62aa-466b-9e8c-89b5488fa040"
        },
        "id": "oaENdjyJt8UW",
        "colab_type": "code",
        "colab": {
          "base_uri": "https://localhost:8080/",
          "height": 34
        },
        "outputId": "695c358a-3f2a-4e48-87b9-94c48ba3a0c3"
      },
      "source": [
        "tup = (1,2,3)\n",
        "type(tup)"
      ],
      "execution_count": 9,
      "outputs": [
        {
          "output_type": "execute_result",
          "data": {
            "text/plain": [
              "tuple"
            ]
          },
          "metadata": {
            "tags": []
          },
          "execution_count": 9
        }
      ]
    },
    {
      "cell_type": "markdown",
      "metadata": {
        "nbpresent": {
          "id": "f72c9dee-71c1-4dbb-af8c-09a1aaacc026"
        },
        "id": "Tl_NhDKLt8UZ",
        "colab_type": "text"
      },
      "source": [
        "## More about indexing\n",
        "\n",
        "<img src=\"https://github.com/yardsale8/STAT489/blob/master/img/string_index.png?raw=true\" width=\"500\">"
      ]
    },
    {
      "cell_type": "code",
      "metadata": {
        "nbpresent": {
          "id": "6124e225-f1e5-4579-8112-6be4bc9cc02b"
        },
        "id": "9yhTf_dit8UZ",
        "colab_type": "code",
        "colab": {},
        "outputId": "53955bc3-5ac4-4f29-ce0a-8a7d7b85a4d6"
      },
      "source": [
        "s = \"Hello Bob\"\n",
        "s[3]"
      ],
      "execution_count": null,
      "outputs": [
        {
          "output_type": "execute_result",
          "data": {
            "text/plain": [
              "'l'"
            ]
          },
          "metadata": {
            "tags": []
          },
          "execution_count": 4
        }
      ]
    },
    {
      "cell_type": "code",
      "metadata": {
        "nbpresent": {
          "id": "b99289df-afbb-4914-928b-385a9c6f696b"
        },
        "id": "qH8uvtyBt8Uc",
        "colab_type": "code",
        "colab": {},
        "outputId": "9844b350-ed46-464d-da30-1a10b2da9e48"
      },
      "source": [
        "s[-2]"
      ],
      "execution_count": null,
      "outputs": [
        {
          "output_type": "execute_result",
          "data": {
            "text/plain": [
              "'o'"
            ]
          },
          "metadata": {
            "tags": []
          },
          "execution_count": 5
        }
      ]
    },
    {
      "cell_type": "markdown",
      "metadata": {
        "nbpresent": {
          "id": "a587853a-2300-4e6a-b904-f3acefce323e"
        },
        "id": "6pCFNmhCt8Uf",
        "colab_type": "text"
      },
      "source": [
        "<img src=\"https://github.com/yardsale8/STAT489/blob/master/img/list_index.png?raw=true\" width = \"400\">"
      ]
    },
    {
      "cell_type": "code",
      "metadata": {
        "nbpresent": {
          "id": "526df420-a3ea-4655-beb1-d63539acccfd"
        },
        "id": "evXcQyEyt8Uf",
        "colab_type": "code",
        "colab": {},
        "outputId": "020f8821-105e-4eb8-9979-92070d8beb18"
      },
      "source": [
        "L = ['A', 'B', 'C', 'D', 'F']\n",
        "L[0]"
      ],
      "execution_count": null,
      "outputs": [
        {
          "output_type": "execute_result",
          "data": {
            "text/plain": [
              "'A'"
            ]
          },
          "metadata": {
            "tags": []
          },
          "execution_count": 3
        }
      ]
    },
    {
      "cell_type": "code",
      "metadata": {
        "nbpresent": {
          "id": "2fa61f4c-7833-4b56-b0aa-3137266e44f1"
        },
        "id": "IWcelroZt8Uk",
        "colab_type": "code",
        "colab": {},
        "outputId": "288c8ce5-fe72-43db-cd61-a5e6593ec7e9"
      },
      "source": [
        "L[-4]\n"
      ],
      "execution_count": null,
      "outputs": [
        {
          "output_type": "execute_result",
          "data": {
            "text/plain": [
              "'B'"
            ]
          },
          "metadata": {
            "tags": []
          },
          "execution_count": 4
        }
      ]
    },
    {
      "cell_type": "markdown",
      "metadata": {
        "nbpresent": {
          "id": "8a26922f-c791-4f46-b470-99bb0b55470e"
        },
        "id": "yZ8wsrBlt8Uo",
        "colab_type": "text"
      },
      "source": [
        "## Slicing\n",
        "<img src=\"https://github.com/yardsale8/STAT489/blob/master/img/string_index.png?raw=true\" width=\"500\">"
      ]
    },
    {
      "cell_type": "code",
      "metadata": {
        "nbpresent": {
          "id": "6f3a4be6-97bd-4b2b-b92b-66fd425a2d5c"
        },
        "id": "86al7G_nt8Uo",
        "colab_type": "code",
        "colab": {},
        "outputId": "4e2916c3-8814-4029-89e5-dfb8f2d89f37"
      },
      "source": [
        "s[1:7]"
      ],
      "execution_count": null,
      "outputs": [
        {
          "output_type": "execute_result",
          "data": {
            "text/plain": [
              "'ello B'"
            ]
          },
          "metadata": {
            "tags": []
          },
          "execution_count": 24
        }
      ]
    },
    {
      "cell_type": "code",
      "metadata": {
        "nbpresent": {
          "id": "79e4173e-7e0a-4ea0-952d-2860c0a34b3a"
        },
        "id": "W6okRG1jt8VO",
        "colab_type": "code",
        "colab": {},
        "outputId": "1e8bc012-911d-495a-cfc7-3920a780b66b"
      },
      "source": [
        "s[:4]"
      ],
      "execution_count": null,
      "outputs": [
        {
          "output_type": "execute_result",
          "data": {
            "text/plain": [
              "'Hell'"
            ]
          },
          "metadata": {
            "tags": []
          },
          "execution_count": 25
        }
      ]
    },
    {
      "cell_type": "code",
      "metadata": {
        "nbpresent": {
          "id": "b75ee088-04a3-4a42-b3b2-26d9951d1143"
        },
        "id": "dK00JauLt8VR",
        "colab_type": "code",
        "colab": {},
        "outputId": "b513c15f-74ee-4812-c76c-70fb593a5cd3"
      },
      "source": [
        "s[2:]"
      ],
      "execution_count": null,
      "outputs": [
        {
          "output_type": "execute_result",
          "data": {
            "text/plain": [
              "'llo Bob'"
            ]
          },
          "metadata": {
            "tags": []
          },
          "execution_count": 26
        }
      ]
    },
    {
      "cell_type": "code",
      "metadata": {
        "nbpresent": {
          "id": "2244f080-2f6d-40a5-b9ad-2e1a0f8a2542"
        },
        "id": "UQSh0jIwt8VU",
        "colab_type": "code",
        "colab": {},
        "outputId": "4e14762d-55d4-41d4-bfad-08f2c5cb0564"
      },
      "source": [
        "s[:]"
      ],
      "execution_count": null,
      "outputs": [
        {
          "output_type": "execute_result",
          "data": {
            "text/plain": [
              "'Hello Bob'"
            ]
          },
          "metadata": {
            "tags": []
          },
          "execution_count": 27
        }
      ]
    },
    {
      "cell_type": "code",
      "metadata": {
        "nbpresent": {
          "id": "38563f2f-ef48-4da2-aa8c-2560756f6d2c"
        },
        "id": "wT1nFODYt8VY",
        "colab_type": "code",
        "colab": {},
        "outputId": "38de2681-265f-4794-e27d-ab779802b944"
      },
      "source": [
        "s[1::2]"
      ],
      "execution_count": null,
      "outputs": [
        {
          "output_type": "execute_result",
          "data": {
            "text/plain": [
              "'el o'"
            ]
          },
          "metadata": {
            "tags": []
          },
          "execution_count": 28
        }
      ]
    },
    {
      "cell_type": "markdown",
      "metadata": {
        "nbpresent": {
          "id": "ebb436ea-df24-43b9-8815-75f5b3a607fb"
        },
        "id": "-s1gcdDKt8Va",
        "colab_type": "text"
      },
      "source": [
        "## Slicing works for all sequences"
      ]
    },
    {
      "cell_type": "code",
      "metadata": {
        "nbpresent": {
          "id": "90399bcb-86eb-4598-af31-08f8203fd418"
        },
        "id": "WwnY9tIOt8Vb",
        "colab_type": "code",
        "colab": {},
        "outputId": "cf1386ff-7b26-40ea-ef80-6201bafd3aae"
      },
      "source": [
        "L[1:7]"
      ],
      "execution_count": null,
      "outputs": [
        {
          "output_type": "execute_result",
          "data": {
            "text/plain": [
              "['B', 'C', 'D', 'F']"
            ]
          },
          "metadata": {
            "tags": []
          },
          "execution_count": 29
        }
      ]
    },
    {
      "cell_type": "code",
      "metadata": {
        "nbpresent": {
          "id": "2809f7c9-7af3-4c0d-be3f-2c67486d1018"
        },
        "id": "0iXzFmyit8Ve",
        "colab_type": "code",
        "colab": {},
        "outputId": "1df3dc19-d0a6-4ba7-d012-d9bb00ca1c02"
      },
      "source": [
        "tup[1:]"
      ],
      "execution_count": null,
      "outputs": [
        {
          "output_type": "execute_result",
          "data": {
            "text/plain": [
              "(2, 3)"
            ]
          },
          "metadata": {
            "tags": []
          },
          "execution_count": 30
        }
      ]
    },
    {
      "cell_type": "markdown",
      "metadata": {
        "nbpresent": {
          "id": "3ae114c1-0e42-417a-b54e-1ca18044c59c"
        },
        "id": "O7wKLYDot8Vk",
        "colab_type": "text"
      },
      "source": [
        "## Boolean expressions"
      ]
    },
    {
      "cell_type": "code",
      "metadata": {
        "nbpresent": {
          "id": "32ce4183-e86a-413e-aaaf-b9c243df8577"
        },
        "id": "BHN8KbJ6t8Vk",
        "colab_type": "code",
        "colab": {},
        "outputId": "da154214-67f7-49b1-9548-c3b9359dd43a"
      },
      "source": [
        "1 in [1,2,3]"
      ],
      "execution_count": null,
      "outputs": [
        {
          "output_type": "execute_result",
          "data": {
            "text/plain": [
              "True"
            ]
          },
          "metadata": {
            "tags": []
          },
          "execution_count": 6
        }
      ]
    },
    {
      "cell_type": "code",
      "metadata": {
        "nbpresent": {
          "id": "5a839225-b9b2-4240-8bae-d1496ce6a932"
        },
        "id": "nWUfHlKnt8Vm",
        "colab_type": "code",
        "colab": {},
        "outputId": "5009fed3-ca7e-4ed2-88bf-e6cd45b7dde4"
      },
      "source": [
        "5 in [1,2,3]"
      ],
      "execution_count": null,
      "outputs": [
        {
          "output_type": "execute_result",
          "data": {
            "text/plain": [
              "False"
            ]
          },
          "metadata": {
            "tags": []
          },
          "execution_count": 7
        }
      ]
    },
    {
      "cell_type": "code",
      "metadata": {
        "nbpresent": {
          "id": "4fe11454-a482-466e-9fa5-ca19d9600aed"
        },
        "id": "zQWkr5m0t8WB",
        "colab_type": "code",
        "colab": {},
        "outputId": "0acf45a7-1eeb-44c7-eec6-3c5d2368b4f8"
      },
      "source": [
        "\"a\" not in \"Todd\""
      ],
      "execution_count": null,
      "outputs": [
        {
          "output_type": "execute_result",
          "data": {
            "text/plain": [
              "True"
            ]
          },
          "metadata": {
            "tags": []
          },
          "execution_count": 8
        }
      ]
    },
    {
      "cell_type": "code",
      "metadata": {
        "nbpresent": {
          "id": "f8a45d7f-96aa-4921-b79d-0766c4c2455b"
        },
        "id": "xl6UVGI1t8WS",
        "colab_type": "code",
        "colab": {},
        "outputId": "5e2a9074-a602-467f-e15e-87e647cdf4a6"
      },
      "source": [
        "\"a\" in [\"a\", \"b\", \"c\"]"
      ],
      "execution_count": null,
      "outputs": [
        {
          "output_type": "execute_result",
          "data": {
            "text/plain": [
              "True"
            ]
          },
          "metadata": {
            "tags": []
          },
          "execution_count": 9
        }
      ]
    },
    {
      "cell_type": "code",
      "metadata": {
        "nbpresent": {
          "id": "a614c579-fd34-45ce-8c2a-8b25e1e85671"
        },
        "id": "KdGljGVnt8WU",
        "colab_type": "code",
        "colab": {},
        "outputId": "1006dac0-e624-4534-f81c-32ed1d37a7b1"
      },
      "source": [
        "\"a\" in [\"abc\", \"def\"]"
      ],
      "execution_count": null,
      "outputs": [
        {
          "output_type": "execute_result",
          "data": {
            "text/plain": [
              "False"
            ]
          },
          "metadata": {
            "tags": []
          },
          "execution_count": 10
        }
      ]
    },
    {
      "cell_type": "code",
      "metadata": {
        "nbpresent": {
          "id": "1654f260-ee30-48ae-ab1a-7aa665103616"
        },
        "id": "fjJ2FvcKt8WX",
        "colab_type": "code",
        "colab": {
          "base_uri": "https://localhost:8080/",
          "height": 34
        },
        "outputId": "3bfefcda-28a6-465d-9461-5892e86b53d5"
      },
      "source": [
        "\"todd\" == \"Todd\""
      ],
      "execution_count": 11,
      "outputs": [
        {
          "output_type": "execute_result",
          "data": {
            "text/plain": [
              "False"
            ]
          },
          "metadata": {
            "tags": []
          },
          "execution_count": 11
        }
      ]
    },
    {
      "cell_type": "markdown",
      "metadata": {
        "nbpresent": {
          "id": "573bf141-408a-4a01-a6df-8e411f6bb6f2"
        },
        "id": "Dmtdd-lDt8Wb",
        "colab_type": "text"
      },
      "source": [
        "## Making a range of numbers\n",
        "\n",
        "* `range` returns a sequence of numbers\n",
        "* Lazy, converted to a list\n",
        "    * for small ranges"
      ]
    },
    {
      "cell_type": "code",
      "metadata": {
        "nbpresent": {
          "id": "d2f0a0d2-9f0c-4c8d-96e5-888549baa5d3"
        },
        "id": "0lVGigX2t8Wb",
        "colab_type": "code",
        "colab": {},
        "outputId": "89a67858-1591-4b5d-a986-c8dd537b8833"
      },
      "source": [
        "range(5)"
      ],
      "execution_count": null,
      "outputs": [
        {
          "output_type": "execute_result",
          "data": {
            "text/plain": [
              "range(0, 5)"
            ]
          },
          "metadata": {
            "tags": []
          },
          "execution_count": 13
        }
      ]
    },
    {
      "cell_type": "code",
      "metadata": {
        "nbpresent": {
          "id": "c057388e-3cc4-45a8-9bbc-538c1d38e6cf"
        },
        "id": "8c7m9Ylst8Wd",
        "colab_type": "code",
        "colab": {},
        "outputId": "ce5114b3-b596-48cd-f04b-8b7794b118e8"
      },
      "source": [
        "list(range(5))"
      ],
      "execution_count": null,
      "outputs": [
        {
          "output_type": "execute_result",
          "data": {
            "text/plain": [
              "[0, 1, 2, 3, 4]"
            ]
          },
          "metadata": {
            "tags": []
          },
          "execution_count": 14
        }
      ]
    },
    {
      "cell_type": "markdown",
      "metadata": {
        "nbpresent": {
          "id": "a06b52c5-7cd8-4944-babf-c5089452dd48"
        },
        "id": "LyKfwfZGt8Wh",
        "colab_type": "text"
      },
      "source": [
        "## One argument\n",
        "\n",
        "* Starts at 0\n",
        "    * aligned with Python indexes\n",
        "* Up to, but not including, argument\n",
        "    * `range(n)` returns `n` elements\n",
        "    * Useful for repetition"
      ]
    },
    {
      "cell_type": "code",
      "metadata": {
        "nbpresent": {
          "id": "42aab43f-a332-40c6-8eda-30dc154716eb"
        },
        "id": "knFllsZgt8Wi",
        "colab_type": "code",
        "colab": {
          "base_uri": "https://localhost:8080/",
          "height": 34
        },
        "outputId": "81cc685c-331c-48f9-a64a-31d4a5a2ee0c"
      },
      "source": [
        "list(range(10))"
      ],
      "execution_count": 12,
      "outputs": [
        {
          "output_type": "execute_result",
          "data": {
            "text/plain": [
              "[0, 1, 2, 3, 4, 5, 6, 7, 8, 9]"
            ]
          },
          "metadata": {
            "tags": []
          },
          "execution_count": 12
        }
      ]
    },
    {
      "cell_type": "markdown",
      "metadata": {
        "nbpresent": {
          "id": "3d06082c-c9b4-433c-b00f-716b6966d855"
        },
        "id": "8UqjHohLt8Wk",
        "colab_type": "text"
      },
      "source": [
        "## Two Arguments\n",
        "\n",
        "* Starts at first argument\n",
        "* Goes up to, but not including, second argument\n",
        "    * Like slicing"
      ]
    },
    {
      "cell_type": "code",
      "metadata": {
        "nbpresent": {
          "id": "39c1a895-261d-4d77-8cf9-d0036be4ac78"
        },
        "id": "GXxcIuunt8Wl",
        "colab_type": "code",
        "colab": {},
        "outputId": "dc30680a-16ca-405d-aa7a-f04e82c4c538"
      },
      "source": [
        "list(range(2, 10))"
      ],
      "execution_count": null,
      "outputs": [
        {
          "output_type": "execute_result",
          "data": {
            "text/plain": [
              "[2, 3, 4, 5, 6, 7, 8, 9]"
            ]
          },
          "metadata": {
            "tags": []
          },
          "execution_count": 15
        }
      ]
    },
    {
      "cell_type": "markdown",
      "metadata": {
        "nbpresent": {
          "id": "fbfc6859-e7c7-49fc-9853-991923e821ae"
        },
        "id": "EkaGwT3Bt8W3",
        "colab_type": "text"
      },
      "source": [
        "## Three Arguments\n",
        "\n",
        "* First two as before\n",
        "* Third argument is step size"
      ]
    },
    {
      "cell_type": "code",
      "metadata": {
        "nbpresent": {
          "id": "4088789c-ae95-48d5-b3f8-bccb54304330"
        },
        "id": "3FLXhQvst8W4",
        "colab_type": "code",
        "colab": {
          "base_uri": "https://localhost:8080/",
          "height": 34
        },
        "outputId": "991e44ef-e3ac-4f14-fab6-be09597abc3a"
      },
      "source": [
        "list(range(1,5,2))"
      ],
      "execution_count": 13,
      "outputs": [
        {
          "output_type": "execute_result",
          "data": {
            "text/plain": [
              "[1, 3]"
            ]
          },
          "metadata": {
            "tags": []
          },
          "execution_count": 13
        }
      ]
    },
    {
      "cell_type": "code",
      "metadata": {
        "nbpresent": {
          "id": "af1af556-6ff7-4a4c-a729-65ac1a0c57e7"
        },
        "id": "X5SZoPEzt8W7",
        "colab_type": "code",
        "colab": {
          "base_uri": "https://localhost:8080/",
          "height": 34
        },
        "outputId": "36c6df53-7a36-4d72-a51c-28984b83253d"
      },
      "source": [
        "list(range(10,2,-1))"
      ],
      "execution_count": 14,
      "outputs": [
        {
          "output_type": "execute_result",
          "data": {
            "text/plain": [
              "[10, 9, 8, 7, 6, 5, 4, 3]"
            ]
          },
          "metadata": {
            "tags": []
          },
          "execution_count": 14
        }
      ]
    },
    {
      "cell_type": "markdown",
      "metadata": {
        "nbpresent": {
          "id": "971c74bb-e97d-4f62-b8e1-dd095f971d82"
        },
        "id": "bwwXr0bpt8W-",
        "colab_type": "text"
      },
      "source": [
        "## Other list processing functions"
      ]
    },
    {
      "cell_type": "markdown",
      "metadata": {
        "nbpresent": {
          "id": "e5da4d20-3fe0-4a80-ac12-977067145539"
        },
        "id": "eLmdBIj3t8W-",
        "colab_type": "text"
      },
      "source": [
        "### sum and max"
      ]
    },
    {
      "cell_type": "code",
      "metadata": {
        "nbpresent": {
          "id": "83de843e-c421-43aa-9759-6a9832e8bb87"
        },
        "id": "RnbORHaJt8W_",
        "colab_type": "code",
        "colab": {},
        "outputId": "90055e0c-e58d-464c-e73f-d7798e65e8db"
      },
      "source": [
        "sum([1,2,3])"
      ],
      "execution_count": null,
      "outputs": [
        {
          "output_type": "execute_result",
          "data": {
            "text/plain": [
              "6"
            ]
          },
          "metadata": {
            "tags": []
          },
          "execution_count": 23
        }
      ]
    },
    {
      "cell_type": "code",
      "metadata": {
        "nbpresent": {
          "id": "06f88760-7610-4211-af4c-1fb623ff9a2c"
        },
        "id": "AS28ZnlRt8XB",
        "colab_type": "code",
        "colab": {},
        "outputId": "3649a01c-807b-4888-a53b-3a459e41a28e"
      },
      "source": [
        "max([1,2,3])"
      ],
      "execution_count": null,
      "outputs": [
        {
          "output_type": "execute_result",
          "data": {
            "text/plain": [
              "3"
            ]
          },
          "metadata": {
            "tags": []
          },
          "execution_count": 24
        }
      ]
    },
    {
      "cell_type": "markdown",
      "metadata": {
        "nbpresent": {
          "id": "73f7b36b-675a-45e8-a0a7-5777aa4b5b9f"
        },
        "id": "tiB59A02t8XG",
        "colab_type": "text"
      },
      "source": [
        "## all and any"
      ]
    },
    {
      "cell_type": "code",
      "metadata": {
        "nbpresent": {
          "id": "a1f1ce29-a633-440a-aebe-436a72092a1f"
        },
        "id": "eg6tYXfTt8XG",
        "colab_type": "code",
        "colab": {
          "base_uri": "https://localhost:8080/",
          "height": 34
        },
        "outputId": "5b82c4c0-9f99-4e6c-c4af-11db4e5dc6b5"
      },
      "source": [
        "all([True, False, False]) # True if all entries are True"
      ],
      "execution_count": 15,
      "outputs": [
        {
          "output_type": "execute_result",
          "data": {
            "text/plain": [
              "False"
            ]
          },
          "metadata": {
            "tags": []
          },
          "execution_count": 15
        }
      ]
    },
    {
      "cell_type": "code",
      "metadata": {
        "id": "UnTN5G740Gxd",
        "colab_type": "code",
        "colab": {
          "base_uri": "https://localhost:8080/",
          "height": 34
        },
        "outputId": "c281a34f-e668-470a-8f57-689a424def31"
      },
      "source": [
        "all([0,1,2])"
      ],
      "execution_count": 17,
      "outputs": [
        {
          "output_type": "execute_result",
          "data": {
            "text/plain": [
              "False"
            ]
          },
          "metadata": {
            "tags": []
          },
          "execution_count": 17
        }
      ]
    },
    {
      "cell_type": "code",
      "metadata": {
        "nbpresent": {
          "id": "a8799272-513e-4425-89fd-da3440072a7f"
        },
        "id": "k7i9ICfpt8XI",
        "colab_type": "code",
        "colab": {},
        "outputId": "e2648105-23cb-4842-88de-4488334aba44"
      },
      "source": [
        "any([True, False, False]) # True if any entries are True"
      ],
      "execution_count": null,
      "outputs": [
        {
          "output_type": "execute_result",
          "data": {
            "text/plain": [
              "True"
            ]
          },
          "metadata": {
            "tags": []
          },
          "execution_count": 26
        }
      ]
    },
    {
      "cell_type": "markdown",
      "metadata": {
        "nbpresent": {
          "id": "11458b39-3b9e-4564-be5f-1bf53168a5b9"
        },
        "id": "Jl137vf0t8XL",
        "colab_type": "text"
      },
      "source": [
        "### `sorted` - making a new sorted sequence"
      ]
    },
    {
      "cell_type": "code",
      "metadata": {
        "nbpresent": {
          "id": "b7b6311e-9c8a-484f-8dcf-305bfcf7c99d"
        },
        "id": "4M9pF0RDt8XM",
        "colab_type": "code",
        "colab": {},
        "outputId": "0c010ffe-4b81-47fa-9e6f-4e68458a9f57"
      },
      "source": [
        "sorted([1,3,2,5,4]) # returns a new sorted list"
      ],
      "execution_count": null,
      "outputs": [
        {
          "output_type": "execute_result",
          "data": {
            "text/plain": [
              "[1, 2, 3, 4, 5]"
            ]
          },
          "metadata": {
            "tags": []
          },
          "execution_count": 3
        }
      ]
    },
    {
      "cell_type": "markdown",
      "metadata": {
        "nbpresent": {
          "id": "79bec505-58a0-45bb-8857-617ea2dfd2bf"
        },
        "id": "4TcTXXcPt8XO",
        "colab_type": "text"
      },
      "source": [
        "## Combining lists with `zip`"
      ]
    },
    {
      "cell_type": "code",
      "metadata": {
        "nbpresent": {
          "id": "1c70df56-28a7-4fee-ba13-f025be816c08"
        },
        "id": "ahGXlQ6yt8XO",
        "colab_type": "code",
        "colab": {},
        "outputId": "f65ef1d0-481f-42a0-ccc4-226a063a4393"
      },
      "source": [
        "zip([1,2,3], [\"a\", \"b\", \"c\"]) # zip is lazy"
      ],
      "execution_count": null,
      "outputs": [
        {
          "output_type": "execute_result",
          "data": {
            "text/plain": [
              "<zip at 0x10410f748>"
            ]
          },
          "metadata": {
            "tags": []
          },
          "execution_count": 30
        }
      ]
    },
    {
      "cell_type": "code",
      "metadata": {
        "nbpresent": {
          "id": "0de7acea-bf29-4994-a89d-21f938825c7e"
        },
        "id": "3jEqB9Dmt8XU",
        "colab_type": "code",
        "colab": {},
        "outputId": "8a589c19-1123-4d41-b6f0-c9cf222956fb"
      },
      "source": [
        "list(zip([1,2,3], [\"a\", \"b\", \"c\"])) # Use list to complete"
      ],
      "execution_count": null,
      "outputs": [
        {
          "output_type": "execute_result",
          "data": {
            "text/plain": [
              "[(1, 'a'), (2, 'b'), (3, 'c')]"
            ]
          },
          "metadata": {
            "tags": []
          },
          "execution_count": 1
        }
      ]
    },
    {
      "cell_type": "markdown",
      "metadata": {
        "nbpresent": {
          "id": "ccaf8ff7-9f76-4ab8-851c-8630a3bb7701"
        },
        "id": "mtMRfitot8XY",
        "colab_type": "text"
      },
      "source": [
        "### <font color='red'> Exercise 1 </font>\n",
        "\n",
        "Write a function named `largest_three` that will return the three largest elements of a list.\n",
        "\n",
        "**Example** largest_three(range(5)) == [4, 3, 2]\n",
        "\n",
        "**Hint** `sorted` and slicing should do the trick!"
      ]
    },
    {
      "cell_type": "code",
      "metadata": {
        "nbpresent": {
          "id": "3da3a1e9-e1c3-4dfc-be8d-e9f698bf5ca0"
        },
        "id": "4Ds7C1iIt8XY",
        "colab_type": "code",
        "colab": {
          "base_uri": "https://localhost:8080/",
          "height": 34
        },
        "outputId": "9b89dda9-cbee-45d2-d828-ebe2f0f7b319"
      },
      "source": [
        "largest_three = lambda data: sorted(data, reverse=True)[0:3]\n",
        "largest_three(range(5))"
      ],
      "execution_count": 24,
      "outputs": [
        {
          "output_type": "execute_result",
          "data": {
            "text/plain": [
              "[4, 3, 2]"
            ]
          },
          "metadata": {
            "tags": []
          },
          "execution_count": 24
        }
      ]
    },
    {
      "cell_type": "markdown",
      "metadata": {
        "nbpresent": {
          "id": "4dde7659-919e-4d17-9f8d-ecdb41645a22"
        },
        "id": "qPc0hvVqt8Xe",
        "colab_type": "text"
      },
      "source": [
        "### <font color=\"red\"> Exercise 2</font>\n",
        "\n",
        "Create the following functions.\n",
        "\n",
        "* Write a function named `median_odd` that will compute the median of an odd-length list.\n",
        "    * You need to sort and get the middle value using indexing."
      ]
    },
    {
      "cell_type": "code",
      "metadata": {
        "id": "pJXjYzWr4erq",
        "colab_type": "code",
        "colab": {}
      },
      "source": [
        ""
      ],
      "execution_count": null,
      "outputs": []
    },
    {
      "cell_type": "code",
      "metadata": {
        "id": "UZ7ZJKPxt8Xe",
        "colab_type": "code",
        "colab": {}
      },
      "source": [
        "median_odd = lambda L: sorted(L)[round((len(L)-1)/2)] # Fix this!"
      ],
      "execution_count": 51,
      "outputs": []
    },
    {
      "cell_type": "code",
      "metadata": {
        "nbpresent": {
          "id": "0198e826-d5ea-414c-ae04-995b0d4ba170"
        },
        "id": "w-S_qOW5t8Xh",
        "colab_type": "code",
        "colab": {}
      },
      "source": [
        "# You need to pass these tests\n",
        "def test_median_odd():\n",
        "    assert median_odd([1]) == 1 # edge case\n",
        "    assert median_odd([1,2,3]) == 2 # should work on sorted list\n",
        "    assert median_odd([1,3,2,4,5]) == 3 # needs to sort first\n",
        "test_median_odd()"
      ],
      "execution_count": 52,
      "outputs": []
    },
    {
      "cell_type": "markdown",
      "metadata": {
        "nbpresent": {
          "id": "4dde7659-919e-4d17-9f8d-ecdb41645a22"
        },
        "id": "nJI7kOQet8Xk",
        "colab_type": "text"
      },
      "source": [
        "* Write a function named `median_even` that will compute the median of an even-length list.\n",
        "    * You need to sort, get the middle 2 value with slicing, and average these values."
      ]
    },
    {
      "cell_type": "code",
      "metadata": {
        "id": "Puk-O2Qat8Xl",
        "colab_type": "code",
        "colab": {
          "base_uri": "https://localhost:8080/",
          "height": 34
        },
        "outputId": "e4d56972-16de-4dca-cb58-b7cfa8e7a327"
      },
      "source": [
        "median_even = lambda L: (sorted(L)[round((len(L)/2))] + sorted(L)[round((len(L)/2)-1)]) /2 # Fix this!\n",
        "\n",
        "median_even([1, 2])"
      ],
      "execution_count": 63,
      "outputs": [
        {
          "output_type": "execute_result",
          "data": {
            "text/plain": [
              "1.5"
            ]
          },
          "metadata": {
            "tags": []
          },
          "execution_count": 63
        }
      ]
    },
    {
      "cell_type": "code",
      "metadata": {
        "nbpresent": {
          "id": "0198e826-d5ea-414c-ae04-995b0d4ba170"
        },
        "id": "HxEkyjC5t8Xp",
        "colab_type": "code",
        "colab": {}
      },
      "source": [
        "# You need to pass these tests\n",
        "def test_median_even():\n",
        "    assert median_even([1, 2]) == 1.5 # edge case\n",
        "    assert median_even([1, 2, 2, 3]) == 2.0 # should work on sorted list\n",
        "    assert median_even([1, 3,4,2]) == 2.5 # needs to sort first\n",
        "test_median_even()"
      ],
      "execution_count": 64,
      "outputs": []
    },
    {
      "cell_type": "markdown",
      "metadata": {
        "nbpresent": {
          "id": "4dde7659-919e-4d17-9f8d-ecdb41645a22"
        },
        "id": "SBXJbEMMt8Xs",
        "colab_type": "text"
      },
      "source": [
        "* Write a function named `median` that will compute the median of any length list.\n",
        "    * Use the conditional expression along with `median_odd` and `median_even`"
      ]
    },
    {
      "cell_type": "code",
      "metadata": {
        "id": "k-Brm8upt8Xs",
        "colab_type": "code",
        "colab": {}
      },
      "source": [
        "median = lambda L: median_odd(L) if (len(L) % 2 == 1) else median_even(L) # Fix this!"
      ],
      "execution_count": 79,
      "outputs": []
    },
    {
      "cell_type": "markdown",
      "metadata": {
        "nbpresent": {
          "id": "2e1dc285-b7d5-4802-94d7-f17654ad43d2"
        },
        "id": "c3YO7y_Xt8Xw",
        "colab_type": "text"
      },
      "source": [
        "### (Optional) Other Sequence Operations\n",
        "\n",
        "|Operation  | Purpose     |\n",
        "|---------- | ------------|\n",
        "| +         | concatenate |\n",
        "| *         | replicate   |\n",
        "| s[i]      | index       |\n",
        "| s[i:j]    | slice       |\n",
        "| len(s)    | length      |\n",
        "| s in t    | membership  |\n",
        "| s not in t| membership  |"
      ]
    },
    {
      "cell_type": "markdown",
      "metadata": {
        "nbpresent": {
          "id": "e45ac6b1-f224-4bcd-8a38-4c2c1d3a7591"
        },
        "id": "_KlOs6rnt8Xz",
        "colab_type": "text"
      },
      "source": [
        "## Arithmetic"
      ]
    },
    {
      "cell_type": "code",
      "metadata": {
        "nbpresent": {
          "id": "4e4aee86-02f2-48b3-a59e-af9269c1dc25"
        },
        "id": "VTQlbolCt8Xz",
        "colab_type": "code",
        "colab": {},
        "outputId": "b88545ee-42ce-4e06-ec54-d506e84a89ba"
      },
      "source": [
        "\"123\" + \"abc\""
      ],
      "execution_count": null,
      "outputs": [
        {
          "output_type": "execute_result",
          "data": {
            "text/plain": [
              "'123abc'"
            ]
          },
          "metadata": {
            "tags": []
          },
          "execution_count": 1
        }
      ]
    },
    {
      "cell_type": "code",
      "metadata": {
        "nbpresent": {
          "id": "af4fccfe-5504-450d-8968-551c7efb0116"
        },
        "id": "JTr3vvYnt8X1",
        "colab_type": "code",
        "colab": {},
        "outputId": "bbe7ff1b-9301-41cd-e431-bb5997a6f64a"
      },
      "source": [
        "[1,2,3] + [\"a\",\"b\",\"c\"]"
      ],
      "execution_count": null,
      "outputs": [
        {
          "output_type": "execute_result",
          "data": {
            "text/plain": [
              "[1, 2, 3, 'a', 'b', 'c']"
            ]
          },
          "metadata": {
            "tags": []
          },
          "execution_count": 2
        }
      ]
    },
    {
      "cell_type": "code",
      "metadata": {
        "nbpresent": {
          "id": "ab3f85df-d2c0-4208-bdb0-a16b9d7d5e82"
        },
        "id": "Zg0HcZwdt8X5",
        "colab_type": "code",
        "colab": {},
        "outputId": "6bf68f34-0859-47c9-f5c9-c92f5aef6da0"
      },
      "source": [
        "3*[1,2,3]"
      ],
      "execution_count": null,
      "outputs": [
        {
          "output_type": "execute_result",
          "data": {
            "text/plain": [
              "[1, 2, 3, 1, 2, 3, 1, 2, 3]"
            ]
          },
          "metadata": {
            "tags": []
          },
          "execution_count": 3
        }
      ]
    },
    {
      "cell_type": "code",
      "metadata": {
        "nbpresent": {
          "id": "0b89ff0d-f7a7-44dc-a837-6a4025ffd8f2"
        },
        "id": "KvsnJ5H0t8X9",
        "colab_type": "code",
        "colab": {},
        "outputId": "5177152c-cc87-4dbc-f490-3938885e75ff"
      },
      "source": [
        "3*\"Wow\" + 4*\"!\""
      ],
      "execution_count": null,
      "outputs": [
        {
          "output_type": "execute_result",
          "data": {
            "text/plain": [
              "'WowWowWow!!!!'"
            ]
          },
          "metadata": {
            "tags": []
          },
          "execution_count": 4
        }
      ]
    },
    {
      "cell_type": "code",
      "metadata": {
        "nbpresent": {
          "id": "14ae61dc-3a2a-463b-8072-ca7a6794290e"
        },
        "id": "ukhAg5Z_t8Yi",
        "colab_type": "code",
        "colab": {},
        "outputId": "64908de7-6004-48b4-eb23-8e9d273cf062"
      },
      "source": [
        "2*('a', 'b') + ('c',)"
      ],
      "execution_count": null,
      "outputs": [
        {
          "output_type": "execute_result",
          "data": {
            "text/plain": [
              "('a', 'b', 'a', 'b', 'c')"
            ]
          },
          "metadata": {
            "tags": []
          },
          "execution_count": 5
        }
      ]
    },
    {
      "cell_type": "markdown",
      "metadata": {
        "id": "ExTM_0XOt8Yj",
        "colab_type": "text"
      },
      "source": [
        "<font color=\"red\"><h2> (Optional) Exercise 3</h2></font>\n",
        "\n",
        "Create the following using concatenation (`+`) and replication (`*`)\n",
        "\n",
        "* [1,1,1,2,2,3,3,3]\n",
        "* \"Tora Tora Tora!\""
      ]
    },
    {
      "cell_type": "code",
      "metadata": {
        "id": "ghQIpG5Ct8Yk",
        "colab_type": "code",
        "colab": {}
      },
      "source": [
        ""
      ],
      "execution_count": null,
      "outputs": []
    }
  ]
}